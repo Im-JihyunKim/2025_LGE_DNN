{
 "cells": [
  {
   "cell_type": "code",
   "execution_count": null,
   "metadata": {},
   "outputs": [],
   "source": [
    "# colab 사용 시! Local PC로 실습하는 경우 실행 x / 단, 작업경로를 2025_LGE_DNN으로 맞춰주기\n",
    "\n",
    "!git clone https://github.com/Im-JihyunKim/2025_LGE_DNN.git\n",
    "%cd /content/2025_LGE_DNN"
   ]
  },
  {
   "cell_type": "code",
   "execution_count": null,
   "metadata": {},
   "outputs": [],
   "source": [
    "from IPython.display import Image"
   ]
  },
  {
   "cell_type": "markdown",
   "metadata": {},
   "source": [
    "# TO DO: PyTorch로 모델 학습하기\n",
    "- 모델 학습 목적: 고양이(Cat)와 강아지(Dog)를 잘 분류하는 것"
   ]
  },
  {
   "cell_type": "code",
   "execution_count": null,
   "metadata": {},
   "outputs": [],
   "source": [
    "import os\n",
    "from glob import glob  # glob 모듈에서 glob라는 클래스를 직접적으로 불러오기\n",
    "import torch\n",
    "import random\n",
    "from PIL import Image as Img\n",
    "import numpy as np\n",
    "from sklearn.model_selection import train_test_split\n",
    "\n",
    "import torchvision.transforms as tf\n",
    "from torch.utils.data import Dataset, DataLoader\n",
    "\n",
    "import torch.nn as nn\n",
    "from torchsummary import summary\n",
    "\n",
    "import warnings\n",
    "warnings.filterwarnings(action='ignore')"
   ]
  },
  {
   "cell_type": "code",
   "execution_count": null,
   "metadata": {},
   "outputs": [],
   "source": [
    "# 똑같은 결과를 얻기 위한 시드 고정\n",
    "seed = 0\n",
    "torch.manual_seed(seed) # torch cpu seed 고정\n",
    "torch.cuda.manual_seed(seed) # torch gpu seed 고정\n",
    "torch.cuda.manual_seed_all(seed) # torch multi-gpu seed 고정\n",
    "np.random.seed(seed) # numpy seed 고정\n",
    "random.seed(seed) # python seed 고정"
   ]
  },
  {
   "cell_type": "markdown",
   "metadata": {},
   "source": [
    "## 1. Dataset and DataLoader 구축\n",
    "- 고양이와 강아지 데이터셋을 불러오고 모델에 입력할 수 있는 형태로 만들기\n",
    "- Mini Batch 형태로 쪼개어 loader로 불러오기"
   ]
  },
  {
   "cell_type": "code",
   "execution_count": null,
   "metadata": {},
   "outputs": [],
   "source": [
    "# CatDogDataset\n",
    "class CatDogDataset(Dataset):\n",
    "    def __init__(self, img_path, labels, mode):\n",
    "\n",
    "      # 데이터셋 로드를 위한 인스턴스 변수 / attributes\n",
    "      self.img_path = img_path  # 데이터셋이 포함된 항목의 파일 경로를 저장 -> getitem에서 데이터 로드시 사용됨\n",
    "      self.labels = labels  # 데이터셋의 각 x 샘플과 매핑되는 레이블 내지는 타겟 값을 저장\n",
    "\n",
    "      if mode == 'train':\n",
    "        # 학습 시에 적용될 데이터 전처리 정의\n",
    "        self.transform = tf.Compose([\n",
    "                                    # tf.ToPILImage(), 만약 데이터가 array나 tensor로 되어 있는 경우 PILImage로 변경이 필요\n",
    "                                    tf.RandomResizedCrop(size=(128,128)),\n",
    "                                    tf.RandomHorizontalFlip(p=0.5),\n",
    "                                    tf.ToTensor(),\n",
    "                                    tf.Normalize([0.485, 0.456, 0.406], [0.229, 0.224, 0.225])\n",
    "                                                  ])\n",
    "      else: # valid or test 시에 적용될 데이터 전처리\n",
    "        self.transform = tf.Compose([\n",
    "                                    tf.Resize(size=(128,128)),\n",
    "                                    tf.ToTensor(),\n",
    "                                    tf.Normalize([0.485, 0.456, 0.406], [0.229, 0.224, 0.225])\n",
    "                                     ])\n",
    "\n",
    "    def __len__(self):\n",
    "      return len(self.img_path)\n",
    "    \n",
    "    def __getitem__(self,idx):\n",
    "      img = Img.open(self.img_path[idx]) # 이미지 오픈\n",
    "      X = self.transform(img) # 이미지 변형\n",
    "      \n",
    "      y = self.labels[idx]\n",
    "      \n",
    "      return {'X':X, \n",
    "              'y': y}"
   ]
  },
  {
   "cell_type": "markdown",
   "metadata": {},
   "source": [
    "- CatDogDataset을 활용하여 데이터를 불러오기 위해서는 아래 인자들을 사전정의하여서 input으로 넣어주어야 함\n",
    "    1. img_path: 데이터셋이 포함된 파일 경로\n",
    "    2. labels: 데이터셋의 각 x 샘플과 mapping되는 정답 데이터\n",
    "    3. mode: train/valid/test"
   ]
  },
  {
   "cell_type": "markdown",
   "metadata": {},
   "source": [
    "### 1-1. mode 별로 img_path & labels 정의"
   ]
  },
  {
   "cell_type": "code",
   "execution_count": null,
   "metadata": {},
   "outputs": [],
   "source": [
    "## 1. Trainset, validset구축 위한 데이터 로드\n",
    "cat_train_path = glob(f'./data/dog_cat/train/cat/*') # train 폴더 cat 이미지 경로\n",
    "cat_train_labels = [0]*len(cat_train_path) # cat에 대한 레이블 생성\n",
    "\n",
    "dog_train_path = glob(f'./data/dog_cat/train/dog/*') # train 폴더 dog 이미지 경로\n",
    "dog_train_labels = [1]*len(dog_train_path) # dog에 대한 레이블 생성\n",
    "\n",
    "\n",
    "## 2. train 데이터와 valid 데이터 분할하기\n",
    "    # cf. 본 데이터셋은 train, test가 명확히 폴더 별로 구분되어 있는 케이스이며, 현업 데이터셋에서는 학습-테스트셋을 직접 지정\n",
    "# 2-1. Cat data: train/valid 분할을 위해서 이미지 경로 섞기\n",
    "random.shuffle(cat_train_path)\n",
    "cut_index = int(len(cat_train_path) * 0.7)  # cat train 이미지 중 70%만을 실제 학습에 이용\n",
    "cat_train_path, cat_valid_path = cat_train_path[:cut_index], cat_train_path[cut_index:]  # x 데이터 train, valid 분할\n",
    "cat_train_labels, cat_valid_labels = cat_train_labels[:cut_index], cat_train_labels[cut_index:] # y 데이터 train, valid 분할\n",
    "\n",
    "# 2-2. Dog data: train/valid 분할을 위해서 이미지 경로 섞기\n",
    "random.shuffle(dog_train_path)\n",
    "cut_index = int(len(dog_train_path) * 0.7)\n",
    "dog_train_path, dog_valid_path = dog_train_path[:cut_index], dog_train_path[cut_index:]\n",
    "dog_train_labels, dog_valid_labels = dog_train_labels[:cut_index], dog_train_labels[cut_index:]\n",
    "\n",
    "\n",
    "## 3. trainset을 위한 cat 이미지와 dog 이미지\n",
    "train_path = dog_train_path + cat_train_path\n",
    "train_labels = dog_train_labels + cat_train_labels\n",
    "\n",
    "\n",
    "## 4. validset을 위한 cat 이미지와 dog 이미지\n",
    "valid_path = dog_valid_path + cat_valid_path\n",
    "valid_labels = dog_valid_labels + cat_valid_labels\n",
    "\n",
    "\n",
    "## 5. testset 구축을 위한 데이터 로드\n",
    "# 5-1. test 폴더 이미지 경로로 데이터셋 불러오기\n",
    "cat_test_path = glob(f'./data/dog_cat/test/cat/*')\n",
    "cat_test_labels = [0]*len(cat_test_path)\n",
    "\n",
    "dog_test_path = glob(f'./data/dog_cat/test/dog/*')\n",
    "dog_test_labels = [1]*len(dog_test_path)\n",
    "\n",
    "# 5-2. testset을 위한 cat 이미지 + dog 이미지\n",
    "test_path = dog_test_path + cat_test_path\n",
    "test_labels = dog_test_labels + cat_test_labels"
   ]
  },
  {
   "cell_type": "code",
   "execution_count": null,
   "metadata": {},
   "outputs": [
    {
     "name": "stdout",
     "output_type": "stream",
     "text": [
      "trainset 이미지 수 : 140\n",
      "validset 이미지 수 : 62\n",
      "testset 이미지 수  : 102\n"
     ]
    }
   ],
   "source": [
    "print(f'trainset 이미지 수 : {len(train_path)}')\n",
    "print(f'validset 이미지 수 : {len(valid_path)}')\n",
    "print(f'testset 이미지 수  : {len(test_path)}')"
   ]
  },
  {
   "cell_type": "markdown",
   "metadata": {},
   "source": [
    "### 1-2. mode 별 Dataset과 Dataloader 정의"
   ]
  },
  {
   "cell_type": "code",
   "execution_count": null,
   "metadata": {},
   "outputs": [],
   "source": [
    "# 학습/테스트 데이터셋 및 데이터로더 생성\n",
    "trainset = CatDogDataset(img_path=train_path, \n",
    "                         labels=train_labels,\n",
    "                         mode='train')\n",
    "\n",
    "validset = CatDogDataset(img_path=valid_path, \n",
    "                         labels=valid_labels,\n",
    "                         mode='valid')\n",
    "\n",
    "testset = CatDogDataset(img_path=test_path, \n",
    "                         labels=test_labels,\n",
    "                         mode='test')\n",
    "\n",
    "trainloader = DataLoader(dataset=trainset, \n",
    "                         batch_size=64,\n",
    "                         shuffle=True,\n",
    "                         drop_last=False)\n",
    "\n",
    "validloader = DataLoader(dataset=validset, \n",
    "                         batch_size=64,\n",
    "                         shuffle=False,\n",
    "                         drop_last=False)\n",
    "\n",
    "testloader = DataLoader(dataset=testset, \n",
    "                         batch_size=64,\n",
    "                         shuffle=False,\n",
    "                         drop_last=False)"
   ]
  },
  {
   "cell_type": "code",
   "execution_count": null,
   "metadata": {},
   "outputs": [
    {
     "name": "stdout",
     "output_type": "stream",
     "text": [
      "dict_keys(['X', 'y'])\n",
      "tensor([0, 0, 1, 1, 1, 0, 0, 0, 0, 1, 1, 0, 0, 1, 0, 1, 1, 0, 1, 0, 0, 0, 0, 1,\n",
      "        0, 0, 1, 0, 1, 1, 0, 0, 1, 1, 1, 1, 1, 0, 0, 1, 0, 1, 0, 0, 1, 0, 0, 1,\n",
      "        0, 0, 1, 0, 1, 0, 0, 0, 1, 0, 1, 1, 1, 1, 0, 0])\n"
     ]
    }
   ],
   "source": [
    "batch = next(iter(trainloader))  # train batch\n",
    "print(batch.keys())\n",
    "print(batch['y'])"
   ]
  },
  {
   "cell_type": "markdown",
   "metadata": {},
   "source": [
    "## 2. 모델 구축"
   ]
  },
  {
   "cell_type": "code",
   "execution_count": null,
   "metadata": {},
   "outputs": [
    {
     "data": {
      "image/png": "[encoded data removed]",
      "text/plain": [
       "<IPython.core.display.Image object>"
      ]
     },
     "metadata": {},
     "output_type": "display_data"
    }
   ],
   "source": [
    "Image('./images/model.PNG')"
   ]
  },
  {
   "cell_type": "code",
   "execution_count": null,
   "metadata": {},
   "outputs": [],
   "source": [
    "class MyCNN(nn.Module):\n",
    "    def __init__(self, num_classes=10):\n",
    "        super().__init__()\n",
    "\n",
    "        self.feature_extractor_G = nn.Sequential(\n",
    "                        nn.Conv2d(in_channels=3,out_channels=16,kernel_size=(3,3),stride=(1,1),padding=(1,2)), \n",
    "                        nn.BatchNorm2d(num_features=16),\n",
    "                        nn.ReLU(True),\n",
    "                        nn.MaxPool2d(kernel_size=(2,2),stride=(2,2), padding=(0,0)),\n",
    "                        \n",
    "                        nn.Conv2d(in_channels=16,out_channels=32,kernel_size=(3,3),stride=(1,1),padding=(1,1)),\n",
    "                        nn.BatchNorm2d(num_features=32),\n",
    "                        nn.ReLU(True),\n",
    "                        nn.MaxPool2d(kernel_size=(2,2),stride=(2,2), padding=(0,0)),\n",
    "    \n",
    "                        nn.Conv2d(in_channels=32,out_channels=64,kernel_size=(3,3),stride=(1,1),padding=(1,1)),\n",
    "                        nn.BatchNorm2d(num_features=64),\n",
    "                        nn.ReLU(True),\n",
    "                        nn.MaxPool2d(kernel_size=(2,2),stride=(2,2), padding=(0,0)),\n",
    "                    \n",
    "                        nn.Conv2d(in_channels=64,out_channels=128,kernel_size=(3,3),stride=(1,1),padding=(1,1)),\n",
    "                        nn.BatchNorm2d(num_features=128),\n",
    "                        nn.ReLU(True),\n",
    "                        nn.MaxPool2d(kernel_size=(2,2),stride=(2,2), padding=(0,0)),\n",
    "                        \n",
    "                        nn.Conv2d(in_channels=128,out_channels=128,kernel_size=(3,3),stride=(1,1),padding=(1,1)),\n",
    "                        nn.BatchNorm2d(num_features=128),\n",
    "                        nn.ReLU(True),\n",
    "                        nn.MaxPool2d(kernel_size=(2,2),stride=(2,2), padding=(0,0)))\n",
    "        \n",
    "        self.flatten = nn.Flatten(start_dim=1, end_dim=-1)  # Batch size index인 0을 제외하고 1부터 끝까지 모두 flatten\n",
    "\n",
    "        self.predictor_F = nn.Sequential(nn.Linear(128*4*4, 128),\n",
    "                                        nn.ReLU(True),\n",
    "                                        nn.Linear(128, num_classes))\n",
    "        \n",
    "        self.init_weights()\n",
    "        \n",
    "    def forward(self, x):\n",
    "        # x : B, 3, 128, 128\n",
    "        representation = self.feature_extractor_G(x)   # B, 128, 4, 4\n",
    "        representation_flatten = self.flatten(representation)  # B, 2048\n",
    "        pred = self.predictor_F(representation_flatten) # pred -> B, num_classes\n",
    "        return pred\n",
    "    \n",
    "    # 모델의 파라미터를 초기화\n",
    "    def init_weights(self):\n",
    "        for m in self.modules():\n",
    "            if isinstance(m, nn.Conv2d):\n",
    "                nn.init.kaiming_normal_(m.weight,\n",
    "                                        mode='fan_out',\n",
    "                                        nonlinearity='leaky_relu')\n",
    "            elif isinstance(m, nn.BatchNorm2d):\n",
    "                nn.init.constant_(m.weight, 1.0)\n",
    "                nn.init.constant_(m.bias, 0.0)\n",
    "            elif isinstance(m, nn.Linear):\n",
    "                nn.init.xavier_normal_(m.weight)\n",
    "                nn.init.constant_(m.bias, 0.0)"
   ]
  },
  {
   "cell_type": "code",
   "execution_count": null,
   "metadata": {},
   "outputs": [
    {
     "name": "stdout",
     "output_type": "stream",
     "text": [
      "----------------------------------------------------------------\n",
      "        Layer (type)               Output Shape         Param #\n",
      "================================================================\n",
      "            Conv2d-1         [-1, 16, 128, 130]             448\n",
      "       BatchNorm2d-2         [-1, 16, 128, 130]              32\n",
      "              ReLU-3         [-1, 16, 128, 130]               0\n",
      "         MaxPool2d-4           [-1, 16, 64, 65]               0\n",
      "            Conv2d-5           [-1, 32, 64, 65]           4,640\n",
      "       BatchNorm2d-6           [-1, 32, 64, 65]              64\n",
      "              ReLU-7           [-1, 32, 64, 65]               0\n",
      "         MaxPool2d-8           [-1, 32, 32, 32]               0\n",
      "            Conv2d-9           [-1, 64, 32, 32]          18,496\n",
      "      BatchNorm2d-10           [-1, 64, 32, 32]             128\n",
      "             ReLU-11           [-1, 64, 32, 32]               0\n",
      "        MaxPool2d-12           [-1, 64, 16, 16]               0\n",
      "           Conv2d-13          [-1, 128, 16, 16]          73,856\n",
      "      BatchNorm2d-14          [-1, 128, 16, 16]             256\n",
      "             ReLU-15          [-1, 128, 16, 16]               0\n",
      "        MaxPool2d-16            [-1, 128, 8, 8]               0\n",
      "           Conv2d-17            [-1, 128, 8, 8]         147,584\n",
      "      BatchNorm2d-18            [-1, 128, 8, 8]             256\n",
      "             ReLU-19            [-1, 128, 8, 8]               0\n",
      "        MaxPool2d-20            [-1, 128, 4, 4]               0\n",
      "          Flatten-21                 [-1, 2048]               0\n",
      "           Linear-22                  [-1, 128]         262,272\n",
      "             ReLU-23                  [-1, 128]               0\n",
      "           Linear-24                    [-1, 2]             258\n",
      "================================================================\n",
      "Total params: 508,290\n",
      "Trainable params: 508,290\n",
      "Non-trainable params: 0\n",
      "----------------------------------------------------------------\n",
      "Input size (MB): 0.19\n",
      "Forward/backward pass size (MB): 12.56\n",
      "Params size (MB): 1.94\n",
      "Estimated Total Size (MB): 14.68\n",
      "----------------------------------------------------------------\n"
     ]
    }
   ],
   "source": [
    "model = MyCNN(num_classes=2)\n",
    "summary(model, input_size=(3,128,128), device='cpu')"
   ]
  },
  {
   "cell_type": "markdown",
   "metadata": {},
   "source": [
    "## 3. 손실함수 정의\n",
    "- **Penalty** for failing to achieve a desired value\n",
    "- 모델이 성취하고자 하는 목적 및 Task에 따라서 다름: [loss function 종류](https://pytorch.org/docs/stable/nn.html#loss-functions)"
   ]
  },
  {
   "cell_type": "code",
   "execution_count": null,
   "metadata": {},
   "outputs": [],
   "source": [
    "\"\"\"For Classification (분류)\"\"\"\n",
    "nll_loss = nn.NLLLoss()       # Negative log-likelihood loss, 모델의 마지막 레이어에서 nn.LogSoftmax를 적용한 값을 입력으로 활용\n",
    "ce_fn = nn.CrossEntropyLoss() # Cross Entropy loss, 로그 확률을 직접 계산할 필요 없이, 마지막 레이어의 원 출력 값(logits)을 입력으로 받음\n",
    "                              # cf. CE loss는 nn.LogSoftmax와 nn.NLLLoss의 조합으로 작동 (별도의 로그-소프트맥스 레이어 필요X)\n",
    "bce_fn = nn.BCELoss()         # Binary cross-entropy loss, 이진 분류에 사용됨. 마지막 레이어에서 nn.Sigmoid 함수를 사용하여 출력을 0과 1 사이의 값으로 조정\n",
    "\n",
    "\n",
    "# 출력 노드를 2개로 했기 때문에 BCE loss를 쓰려면 shape을 따로 맞춰줘야 함\n",
    "criterion = nn.CrossEntropyLoss()"
   ]
  },
  {
   "cell_type": "markdown",
   "metadata": {},
   "source": [
    "## 4. 순전파 (Forward)\n",
    "- 입력 데이터 → 신경망 모델의 입력 layer부터 순차적으로 거쳐 최종 layer에서 출력 값을 도출\n",
    "- 해당 출력 값과 실제 값(labels) 간의 차이를 손실함수를 통해 계산하여 loss 도출"
   ]
  },
  {
   "cell_type": "markdown",
   "metadata": {},
   "source": [
    "### 4-1. To Device\n",
    "- 모델 작동을 GPU에서 할 것인지, CPU에서 할 것인지"
   ]
  },
  {
   "cell_type": "code",
   "execution_count": null,
   "metadata": {},
   "outputs": [
    {
     "name": "stdout",
     "output_type": "stream",
     "text": [
      "device: cuda\n"
     ]
    }
   ],
   "source": [
    "if torch.cuda.is_available():  # gpu가 있다면\n",
    "    device = 'cuda'  # cuda에 올리고\n",
    "else:\n",
    "    device = 'cpu'   # 그렇지 않을 시 cpu에서 작동\n",
    "\n",
    "# 참고. if else 조건문을 한 줄로 간단히 쓰기!\n",
    "device = 'cuda' if torch.cuda.is_available() else 'cpu'\n",
    "\n",
    "print('device:', device)  # device 확인\n",
    "\n",
    "# 모델 파라미터를 device로 이동\n",
    "model.to(device)\n",
    "\n",
    "# loss function을 device로 이동\n",
    "criterion.to(device);"
   ]
  },
  {
   "cell_type": "markdown",
   "metadata": {},
   "source": [
    "### 4-2. Model forward"
   ]
  },
  {
   "cell_type": "code",
   "execution_count": null,
   "metadata": {},
   "outputs": [
    {
     "name": "stdout",
     "output_type": "stream",
     "text": [
      "1회 forward를 수행하고 도출된 minibatch의 평균 loss 값: 1.19\n",
      "1회 forward를 수행하고 도출된 minibatch의 평균 accuracy: 0.45\n"
     ]
    }
   ],
   "source": [
    "model.train()   # batchnorm, dropout 등 train할 때와 test할 때 연산이 다른 경우가 존재\n",
    "\n",
    "num_iterations = len(trainloader)\n",
    "train_history = {'loss': torch.zeros(num_iterations),      # 모델의 손실을 기록하기 위한 변수\n",
    "                 'accuracy': torch.zeros(num_iterations)}  # 모델의 성능(accuracy)을 기록하기 위한 변수\n",
    "\n",
    "for i, batch in enumerate(trainloader): # enumerate: for문 index와 변수를 튜플 형태로 가져와주는 class\n",
    "\n",
    "    # X, y 데이터 명시, 두 텐서를 모델, 목적함수와 같은 device로\n",
    "    input_imgs, labels = batch['X'].to(device), batch['y'].to(device)\n",
    "\n",
    "    # forward\n",
    "    logits = model(input_imgs)  # model에 input_imgs를 입력으로 넣으면 자동으로 forward 함수가 호출되어 prediction을 output으로 도출\n",
    "\n",
    "    # Loss 계산!\n",
    "    loss = criterion(logits, labels)\n",
    "\n",
    "    # 모델 성능 계산!\n",
    "    max_pred = torch.max(logits.detach(), dim=-1)[1] # 샘플 별 logit의 max 값들을 뽑기 -> [1]로 max 값들의 idx를 반환\n",
    "                                                    # logit의 max 값은 모델이 해당 class로 예측했다는 의미\n",
    "    accuracy = torch.eq(max_pred, labels).sum().cpu().item() / len(labels)  # 예측한 class와 정답이 얼마나 맞는지(eq) 비교하고, 맞은 개수를 합한 후 (sum) 평균 내기\n",
    "\n",
    "    train_history['loss'][i] = loss.item()   # 'item()'은 tensor의 item 값 (상수 값)만 반환. tensor를 직접적으로 리스트에 append하면 불필요하게 메모리가 쌓이는 것 주의.\n",
    "    train_history['accuracy'][i] = accuracy\n",
    "\n",
    "train_result = {k: v.mean().item() for k, v in train_history.items()}  # train의 loss, acc를 평균내어 결과 보기\n",
    "\n",
    "print(f\"1회 forward를 수행하고 도출된 minibatch의 평균 loss 값: {train_result['loss']:.2f}\")\n",
    "print(f\"1회 forward를 수행하고 도출된 minibatch의 평균 accuracy: {train_result['accuracy']:.2f}\")"
   ]
  },
  {
   "cell_type": "markdown",
   "metadata": {},
   "source": [
    "## 5. 역전파 (Backpropagation)\n",
    "- 손실함수 값에 대한 기울기 (loss의 변화율)를 계산하여 모델의 파라미터를 어떻게 조정해야 손실을 줄일 수 있는지를 나타냄\n",
    "- 계산된 기울기를 이용해서 출력 layer에서부터 입력 layer까지 거꾸로 거슬러 가며 각 layer의 파라미터에 대한 gradient를 chain rule을 통해 계산 (각 파라미터가 최종 loss에 미치는 영향을 구함)"
   ]
  },
  {
   "cell_type": "code",
   "execution_count": null,
   "metadata": {},
   "outputs": [
    {
     "name": "stdout",
     "output_type": "stream",
     "text": [
      "1회 forward를 수행하고 도출된 minibatch의 평균 loss 값: 1.21\n",
      "1회 forward를 수행하고 도출된 minibatch의 평균 accuracy: 0.45\n"
     ]
    }
   ],
   "source": [
    "model.train()   # batchnorm, dropout 등 train할 때와 test할 때 연산이 다른 경우가 존재\n",
    "\n",
    "num_iterations = len(trainloader)\n",
    "train_history = {'loss': torch.zeros(num_iterations),      # 모델의 손실을 기록하기 위한 변수\n",
    "                 'accuracy': torch.zeros(num_iterations)}  # 모델의 성능(accuracy)을 기록하기 위한 변수\n",
    "\n",
    "for i, batch in enumerate(trainloader): # enumerate: for문 index와 변수를 튜플 형태로 가져와주는 class\n",
    "\n",
    "    # X, y 데이터 명시, 두 텐서를 모델, 목적함수와 같은 device로\n",
    "    input_imgs, labels = batch['X'].to(device), batch['y'].to(device)\n",
    "\n",
    "    # forward\n",
    "    logits = model(input_imgs)  # model에 input_imgs를 입력으로 넣으면 자동으로 forward 함수가 호출되어 prediction을 output으로 도출\n",
    "\n",
    "    # Loss 계산!\n",
    "    loss = criterion(logits, labels)\n",
    "\n",
    "    \"\"\"계산된 loss에서 gradient를 계산하는 역전파 함수: .backward()\"\"\"\n",
    "    loss.backward()  # PyTorch 자동 미분\n",
    "\n",
    "    # 모델 성능 계산!\n",
    "    max_pred = torch.max(logits.detach(), dim=-1)[1] # 샘플 별 logit의 max 값들을 뽑기 -> [1]로 max 값들의 idx를 반환\n",
    "                                                    # logit의 max 값은 모델이 해당 class로 예측했다는 의미\n",
    "    accuracy = torch.eq(max_pred, labels).sum().cpu().item() / len(labels)  # 예측한 class와 정답이 얼마나 맞는지(eq) 비교하고, 맞은 개수를 합한 후 (sum) 평균 내기\n",
    "\n",
    "    train_history['loss'][i] = loss.item()   # 'item()'은 tensor의 item 값 (상수 값)만 반환. tensor를 직접적으로 리스트에 append하면 불필요하게 메모리가 쌓이는 것 주의.\n",
    "    train_history['accuracy'][i] = accuracy\n",
    "\n",
    "train_result = {k: v.mean().item() for k, v in train_history.items()}  # train의 loss, acc를 평균내어 결과 보기\n",
    "\n",
    "print(f\"1회 forward를 수행하고 도출된 minibatch의 평균 loss 값: {train_result['loss']:.2f}\")\n",
    "print(f\"1회 forward를 수행하고 도출된 minibatch의 평균 accuracy: {train_result['accuracy']:.2f}\")"
   ]
  },
  {
   "cell_type": "markdown",
   "metadata": {},
   "source": [
    "## 6. 모델의 파라미터 업데이트\n",
    "- `Optimizer`를 이용하여 모델 파라미터를 업데이트! (목표: 손실 함수의 값을 최소화-혹은 최적화 문제에 따라 최대화- 하는 방향으로 파라미터 최적화)"
   ]
  },
  {
   "cell_type": "markdown",
   "metadata": {},
   "source": [
    "### 6-1. Optimizer\n",
    "- 최적의 파라미터를 찾기 위해 파라미터 업데이트를 담당하는 중요 요소 (성능과 직결)\n",
    "- `Gradient`를 활용하여 파라미터 업데이트 **이동 방향** 및 **얼마나 이동할 지**를 설정\n",
    "    - Gradient Descent: gradient의 역방향으로 & gradient의 크기만큼 이동\n",
    "- `학습률(learning rate)`이라는 하이퍼파라미터를 이용하여 **이동 정도**를 조절\n",
    "    - gradient의 크기만으로 결정할 시 이동이 불안정할 수 있기에, learning rate로 조절\n",
    "    - learning rate이 너무 크면 수렴을 못할 수 있고, 너무 작으면 학습이 느리게 진행됨 (적절한 값 설정 중요)\n",
    "    - 일반적으로 0.01 ~ 0.0001 사이를 많이 이용\n",
    "    - 학습 초반에는 크게, 후반에는 작게 설정하는 scheduler 방식을 활용하기도 함  \n",
    "\n",
    "- Optimizer 알고리즘에는 여러 종류가 있음: [optimizer 종류](https://pytorch.org/docs/stable/optim.html)"
   ]
  },
  {
   "cell_type": "code",
   "execution_count": null,
   "metadata": {},
   "outputs": [],
   "source": [
    "# loss.backward를 통해서 gradient를 계산하고 실제로 파라미터를 업데이트 하는 역할\n",
    "\n",
    "sgd = torch.optim.SGD(params=model.parameters(), # 최적화 할 모델 파라미터\n",
    "                      lr=0.01, # 학습률\n",
    "                      momentum=0.9 # 과거 그레디언트 가중합 파라미터\n",
    "                      # weight_decay=5e-4, l2 정규화 강도 파라미터\n",
    "                      )\n",
    "\n",
    "adam = torch.optim.Adam(params=model.parameters(), # 최적화 할 모델 파라미터\n",
    "                      lr=0.01 # 학습률\n",
    "                      # betas=(0.9,0.999) # (momentum, adaptive lr momentum)\n",
    "                      # weight_decay=5e-4, l2 정규화 강도 파라미터\n",
    "                      )\n",
    "del sgd, adam\n",
    "\n",
    "optimizer = torch.optim.SGD(params=model.parameters(),  # 어떤 모델의 파라미터를 업데이트 할 것인지를 입력\n",
    "                      lr=0.001,\n",
    "                      momentum=0.9,     # SGD가 local minima에 빠져 벗어나지 못하는 단점 보완 위함\n",
    "                      weight_decay=5e-4 # parameter값이 너무 커지지 않도록 규제 \n",
    "                      )"
   ]
  },
  {
   "cell_type": "code",
   "execution_count": null,
   "metadata": {},
   "outputs": [
    {
     "name": "stdout",
     "output_type": "stream",
     "text": [
      "1회 forward와 backward를 수행하고 도출된 minibatch의 평균 loss 값: 1.30\n",
      "1회 forward와 backward를 수행하고 도출된 minibatch의 평균 accuracy: 0.52\n"
     ]
    }
   ],
   "source": [
    "model.train()   # batchnorm, dropout 등 train할 때와 test할 때 연산이 다른 경우가 존재\n",
    "\n",
    "num_iterations = len(trainloader)\n",
    "train_history = {'loss': torch.zeros(num_iterations),      # 모델의 손실을 기록하기 위한 변수\n",
    "                 'accuracy': torch.zeros(num_iterations)}  # 모델의 성능(accuracy)을 기록하기 위한 변수\n",
    "\n",
    "for i, batch in enumerate(trainloader): # enumerate: for문 index와 변수를 튜플 형태로 가져와주는 class\n",
    "\n",
    "    # X, y 데이터 명시, 두 텐서를 모델, 목적함수와 같은 device로\n",
    "    input_imgs, labels = batch['X'].to(device), batch['y'].to(device)\n",
    "\n",
    "    # forward\n",
    "    logits = model(input_imgs)  # model에 input_imgs를 입력으로 넣으면 자동으로 forward 함수가 호출되어 prediction을 output으로 도출\n",
    "\n",
    "    # Loss 계산!\n",
    "    loss = criterion(logits, labels)\n",
    "\n",
    "    \"\"\"계산된 loss에서 gradient를 계산하는 역전파 함수: .backward()\"\"\"\n",
    "    loss.backward()  # PyTorch 자동 미분\n",
    "\n",
    "    \"\"\"optimizer를 이용한 파라미터 업데이트\"\"\"\n",
    "    optimizer.step()\n",
    "    \n",
    "    \"\"\"Optimizer Gradient 초기화\"\"\"\n",
    "    optimizer.zero_grad()\n",
    "\n",
    "    # 모델 성능 계산!\n",
    "    max_pred = torch.max(logits.detach(), dim=-1)[1] # 샘플 별 logit의 max 값들을 뽑기 -> [1]로 max 값들의 idx를 반환\n",
    "                                                    # logit의 max 값은 모델이 해당 class로 예측했다는 의미\n",
    "    accuracy = torch.eq(max_pred, labels).sum().cpu().item() / len(labels)  # 예측한 class와 정답이 얼마나 맞는지(eq) 비교하고, 맞은 개수를 합한 후 (sum) 평균 내기\n",
    "\n",
    "    train_history['loss'][i] = loss.item()   # 'item()'은 tensor의 item 값 (상수 값)만 반환. tensor를 직접적으로 리스트에 append하면 불필요하게 메모리가 쌓이는 것 주의.\n",
    "    train_history['accuracy'][i] = accuracy\n",
    "\n",
    "train_result = {k: v.mean().item() for k, v in train_history.items()}  # train의 loss, acc를 평균내어 결과 보기\n",
    "\n",
    "print(f\"1회 forward와 backward를 수행하고 도출된 minibatch의 평균 loss 값: {train_result['loss']:.2f}\")\n",
    "print(f\"1회 forward와 backward를 수행하고 도출된 minibatch의 평균 accuracy: {train_result['accuracy']:.2f}\")"
   ]
  },
  {
   "cell_type": "markdown",
   "metadata": {},
   "source": [
    "### 6-2. Model Train\n",
    "- 학습 횟수 Epochs 만큼 model forward와 backward를 반복\n",
    "- 반복 학습"
   ]
  },
  {
   "cell_type": "code",
   "execution_count": null,
   "metadata": {},
   "outputs": [
    {
     "name": "stdout",
     "output_type": "stream",
     "text": [
      "1회 학습을 수행하고 도출된 minibatch의 평균 loss 값: 1.60\n",
      "1회 학습을 수행하고 도출된 minibatch의 평균 accuracy: 0.52\n",
      "2회 학습을 수행하고 도출된 minibatch의 평균 loss 값: 0.81\n",
      "2회 학습을 수행하고 도출된 minibatch의 평균 accuracy: 0.64\n",
      "3회 학습을 수행하고 도출된 minibatch의 평균 loss 값: 1.02\n",
      "3회 학습을 수행하고 도출된 minibatch의 평균 accuracy: 0.54\n",
      "4회 학습을 수행하고 도출된 minibatch의 평균 loss 값: 0.69\n",
      "4회 학습을 수행하고 도출된 minibatch의 평균 accuracy: 0.61\n",
      "5회 학습을 수행하고 도출된 minibatch의 평균 loss 값: 0.87\n",
      "5회 학습을 수행하고 도출된 minibatch의 평균 accuracy: 0.56\n",
      "6회 학습을 수행하고 도출된 minibatch의 평균 loss 값: 0.73\n",
      "6회 학습을 수행하고 도출된 minibatch의 평균 accuracy: 0.63\n",
      "7회 학습을 수행하고 도출된 minibatch의 평균 loss 값: 0.63\n",
      "7회 학습을 수행하고 도출된 minibatch의 평균 accuracy: 0.63\n",
      "8회 학습을 수행하고 도출된 minibatch의 평균 loss 값: 0.72\n",
      "8회 학습을 수행하고 도출된 minibatch의 평균 accuracy: 0.55\n",
      "9회 학습을 수행하고 도출된 minibatch의 평균 loss 값: 0.66\n",
      "9회 학습을 수행하고 도출된 minibatch의 평균 accuracy: 0.64\n",
      "10회 학습을 수행하고 도출된 minibatch의 평균 loss 값: 0.63\n",
      "10회 학습을 수행하고 도출된 minibatch의 평균 accuracy: 0.63\n"
     ]
    }
   ],
   "source": [
    "model.train()   # batchnorm, dropout 등 train할 때와 test할 때 연산이 다른 경우가 존재\n",
    "\n",
    "epochs = 10\n",
    "epoch_history = {'train_loss': [],\n",
    "                 'train_acc': []}\n",
    "\n",
    "for epoch in range(1, epochs+1):\n",
    "    num_iterations = len(trainloader)\n",
    "    train_history = {'loss': torch.zeros(num_iterations),      # 모델의 손실을 기록하기 위한 변수\n",
    "                    'accuracy': torch.zeros(num_iterations)}  # 모델의 성능(accuracy)을 기록하기 위한 변수\n",
    "\n",
    "    for i, batch in enumerate(trainloader): # enumerate: for문 index와 변수를 튜플 형태로 가져와주는 class\n",
    "\n",
    "        # X, y 데이터 명시, 두 텐서를 모델, 목적함수와 같은 device로\n",
    "        input_imgs, labels = batch['X'].to(device), batch['y'].to(device)\n",
    "\n",
    "        # forward\n",
    "        logits = model(input_imgs)  # model에 input_imgs를 입력으로 넣으면 자동으로 forward 함수가 호출되어 prediction을 output으로 도출\n",
    "\n",
    "        # Loss 계산!\n",
    "        loss = criterion(logits, labels)\n",
    "\n",
    "        \"\"\"계산된 loss에서 gradient를 계산하는 역전파 함수: .backward()\"\"\"\n",
    "        loss.backward()  # PyTorch 자동 미분\n",
    "\n",
    "        \"\"\"optimizer를 이용한 파라미터 업데이트\"\"\"\n",
    "        optimizer.step()\n",
    "        \n",
    "        \"\"\"Optimizer Gradient 초기화\"\"\"\n",
    "        optimizer.zero_grad()\n",
    "\n",
    "        # 모델 성능 계산!\n",
    "        max_pred = torch.max(logits.detach(), dim=-1)[1] # 샘플 별 logit의 max 값들을 뽑기 -> [1]로 max 값들의 idx를 반환\n",
    "                                                        # logit의 max 값은 모델이 해당 class로 예측했다는 의미\n",
    "        accuracy = torch.eq(max_pred, labels).sum().cpu().item() / len(labels)  # 예측한 class와 정답이 얼마나 맞는지(eq) 비교하고, 맞은 개수를 합한 후 (sum) 평균 내기\n",
    "\n",
    "        train_history['loss'][i] = loss.item()   # 'item()'은 tensor의 item 값 (상수 값)만 반환. tensor를 직접적으로 리스트에 append하면 불필요하게 메모리가 쌓이는 것 주의.\n",
    "        train_history['accuracy'][i] = accuracy\n",
    "\n",
    "    train_result = {k: v.mean().item() for k, v in train_history.items()}  # train의 loss, acc를 평균내어 결과 보기\n",
    "\n",
    "    print(f\"{epoch}회 학습을 수행하고 도출된 minibatch의 평균 loss 값: {train_result['loss']:.2f}\")\n",
    "    print(f\"{epoch}회 학습을 수행하고 도출된 minibatch의 평균 accuracy: {train_result['accuracy']:.2f}\")\n",
    "\n",
    "    epoch_history['train_loss'].append(train_result['loss'])\n",
    "    epoch_history['train_acc'].append(train_result['accuracy'])"
   ]
  },
  {
   "cell_type": "markdown",
   "metadata": {},
   "source": [
    "### 6-3. 모델 학습 추세 시각화"
   ]
  },
  {
   "cell_type": "code",
   "execution_count": null,
   "metadata": {},
   "outputs": [
    {
     "data": {
      "image/png": "[encoded data removed]",
      "text/plain": [
       "<Figure size 640x480 with 1 Axes>"
      ]
     },
     "metadata": {},
     "output_type": "display_data"
    }
   ],
   "source": [
    "import matplotlib.pyplot as plt\n",
    "import seaborn as sns\n",
    "\n",
    "sns.lineplot(x=range(1, epochs+1), y=epoch_history['train_loss'], label=\"Train Loss\")\n",
    "plt.title(\"Visualization of Learning Trends\")\n",
    "plt.xlabel('Epoch')\n",
    "plt.ylabel('Loss');"
   ]
  },
  {
   "cell_type": "markdown",
   "metadata": {},
   "source": [
    "## 7. Model Valid\n",
    "- 매 epoch마다 validset으로 성능을 평가하여 모델의 일반화 성능이 어느 정도인지 확인!"
   ]
  },
  {
   "cell_type": "markdown",
   "metadata": {},
   "source": [
    "### 7-1. Validset을 통한 모델 일반화 성능 평가"
   ]
  },
  {
   "cell_type": "code",
   "execution_count": null,
   "metadata": {},
   "outputs": [
    {
     "name": "stdout",
     "output_type": "stream",
     "text": [
      "Valid Loss: 0.62, Valid Accuracy: 0.66\n"
     ]
    }
   ],
   "source": [
    "model.eval() # batchnorm, dropout 등 train할 때와 test할 때 연산이 다른 경우가 존재\n",
    "\n",
    "num_iterations = len(validloader)\n",
    "valid_history = {'loss': torch.zeros(num_iterations),      # 모델의 손실(loss)을 기록하기 위함\n",
    "                'accuracy': torch.zeros(num_iterations)}   # 모델의 성능(accuracy)을 기록하기 위함\n",
    "\n",
    "with torch.no_grad():  # 자동미분 연산 중지\n",
    "    for i, batch in enumerate(validloader):\n",
    "        input_imgs, labels = batch['X'].to(device), batch['y'].to(device)\n",
    "\n",
    "        logits = model(input_imgs)\n",
    "\n",
    "        loss = criterion(logits, labels)\n",
    "\n",
    "        \"\"\"loss를 backward 하지 않는 것에 주의\"\"\"\n",
    "\n",
    "        # 모델 손실 및 성능 기록\n",
    "        max_pred = torch.max(logits.detach(), dim=-1)[1]\n",
    "        accuracy = torch.eq(max_pred, labels).sum().cpu().item() / len(labels)  # 예측한 class와 정답이 얼마나 맞는지(eq) 비교하고, 맞은 개수를 합한 후 (sum) 평균 내기\n",
    "\n",
    "        valid_history['loss'][i] = loss.item()   # 모델 손실 저장\n",
    "        valid_history['accuracy'][i] = accuracy  # 모델 성능 저장\n",
    "\n",
    "valid_result = {k: v.mean().item() for k, v in valid_history.items()} \n",
    "\n",
    "print(f\"Valid Loss: {valid_result['loss']:.2f}, Valid Accuracy: {valid_result['accuracy']:.2f}\")"
   ]
  },
  {
   "cell_type": "markdown",
   "metadata": {},
   "source": [
    "### 7-2. 학습 중 Validset으로 평가하였을 때, 모델의 (일반화) 성능이 가장 좋았을 때의 파라미터를 저장하는 것이 원칙"
   ]
  },
  {
   "cell_type": "markdown",
   "metadata": {},
   "source": [
    "#### Recall: Save Parameters of Model"
   ]
  },
  {
   "cell_type": "code",
   "execution_count": null,
   "metadata": {},
   "outputs": [],
   "source": [
    "save_dir = './results/CatDog'\n",
    "if not os.path.exists(save_dir):\n",
    "    os.makedirs(save_dir, exist_ok=True)\n",
    "\n",
    "# dictionary로 모델의 parameter뿐만 아니라 다른 정보들(ex. best epoch, best accuracy 등)을 저장\n",
    "save_dict = {'model_G':model.feature_extractor_G.state_dict(),\n",
    "             'model_F':model.predictor_F.state_dict(),\n",
    "             'model':model.state_dict(),\n",
    "\n",
    "             'optimizer': optimizer.state_dict()\n",
    "             }\n",
    "torch.save(save_dict, os.path.join(save_dir, 'model_checkpoint.pt'))"
   ]
  },
  {
   "cell_type": "code",
   "execution_count": null,
   "metadata": {},
   "outputs": [],
   "source": [
    "import time"
   ]
  },
  {
   "cell_type": "code",
   "execution_count": null,
   "metadata": {},
   "outputs": [
    {
     "name": "stdout",
     "output_type": "stream",
     "text": [
      "Epoch: 1, Train Loss: 0.62, Train Accuracy: 0.68\n",
      "Epoch: 1, Valid Loss: 0.63, Valid Accuracy: 0.66 \n",
      "\n",
      "Epoch: 2, Train Loss: 0.65, Train Accuracy: 0.65\n",
      "Epoch: 2, Valid Loss: 0.67, Valid Accuracy: 0.58 \n",
      "\n",
      "Epoch: 3, Train Loss: 0.58, Train Accuracy: 0.72\n",
      "Epoch: 3, Valid Loss: 0.65, Valid Accuracy: 0.60 \n",
      "\n",
      "Epoch: 4, Train Loss: 0.62, Train Accuracy: 0.69\n",
      "Epoch: 4, Valid Loss: 0.65, Valid Accuracy: 0.60 \n",
      "\n",
      "Epoch: 5, Train Loss: 0.61, Train Accuracy: 0.69\n",
      "Epoch: 5, Valid Loss: 0.66, Valid Accuracy: 0.60 \n",
      "\n",
      "Epoch: 6, Train Loss: 0.54, Train Accuracy: 0.76\n",
      "Epoch: 6, Valid Loss: 0.69, Valid Accuracy: 0.58 \n",
      "\n",
      "Epoch: 7, Train Loss: 0.59, Train Accuracy: 0.72\n",
      "Epoch: 7, Valid Loss: 0.73, Valid Accuracy: 0.50 \n",
      "\n",
      "Epoch: 8, Train Loss: 0.52, Train Accuracy: 0.77\n",
      "Epoch: 8, Valid Loss: 0.66, Valid Accuracy: 0.60 \n",
      "\n",
      "Epoch: 9, Train Loss: 0.60, Train Accuracy: 0.74\n",
      "Epoch: 9, Valid Loss: 0.62, Valid Accuracy: 0.65 \n",
      "\n",
      "Epoch: 10, Train Loss: 0.49, Train Accuracy: 0.84\n",
      "Epoch: 10, Valid Loss: 0.61, Valid Accuracy: 0.63 \n",
      "\n",
      "Best Accuracy:0.66 | Best Epoch:1\n"
     ]
    }
   ],
   "source": [
    "model.train()   # batchnorm, dropout 등 train할 때와 test할 때 연산이 다른 경우가 존재\n",
    "\n",
    "epochs = 10\n",
    "best_acc = 0.0                      # 최종적으로 저장할 모델을 판단할 기준 설정 (초기화)\n",
    "best_epoch = 0.0                    # 최종 모델이 몇 번째 epoch에서 도출되는지 저장 위함 (초기화)\n",
    "save_dir = './results/CatDog'       # 최종 모델 결과를 저장할 경로 설정\n",
    "if not os.path.exists(save_dir):    # 새롭게 만들어야 하는 경우 -> 만들기\n",
    "    os.makedirs(save_dir, exist_ok=True)\n",
    "epoch_history = {'train_loss': [], 'train_acc': [],\n",
    "                 'valid_loss': [], 'valid_acc': []}\n",
    "\n",
    "start = time.time()\n",
    "for epoch in range(1, epochs+1):\n",
    "\n",
    "    \"\"\"Step 1: Model Training\"\"\"\n",
    "    num_iterations = len(trainloader)\n",
    "    train_history = {'loss': torch.zeros(num_iterations),      # 모델의 손실을 기록하기 위한 변수\n",
    "                    'accuracy': torch.zeros(num_iterations)}   # 모델의 성능(accuracy)을 기록하기 위한 변수\n",
    "\n",
    "    for i, batch in enumerate(trainloader): # enumerate: for문 index와 변수를 튜플 형태로 가져와주는 class\n",
    "\n",
    "        # X, y 데이터 명시, 두 텐서를 모델, 목적함수와 같은 device로\n",
    "        input_imgs, labels = batch['X'].to(device), batch['y'].to(device)\n",
    "\n",
    "        # forward\n",
    "        logits = model(input_imgs)  # model에 input_imgs를 입력으로 넣으면 자동으로 forward 함수가 호출되어 prediction을 output으로 도출\n",
    "\n",
    "        # Loss 계산!\n",
    "        loss = criterion(logits, labels)\n",
    "\n",
    "        \"\"\"계산된 loss에서 gradient를 계산하는 역전파 함수: .backward()\"\"\"\n",
    "        loss.backward()  # PyTorch 자동 미분\n",
    "\n",
    "        \"\"\"optimizer를 이용한 파라미터 업데이트\"\"\"\n",
    "        optimizer.step()\n",
    "        \n",
    "        \"\"\"Optimizer Gradient 초기화\"\"\"\n",
    "        optimizer.zero_grad()\n",
    "\n",
    "        # 모델 성능 계산!\n",
    "        max_pred = torch.max(logits.detach(), dim=-1)[1] # 샘플 별 logit의 max 값들을 뽑기 -> [1]로 max 값들의 idx를 반환\n",
    "                                                        # logit의 max 값은 모델이 해당 class로 예측했다는 의미\n",
    "        accuracy = torch.eq(max_pred, labels).sum().cpu().item() / len(labels)  # 예측한 class와 정답이 얼마나 맞는지(eq) 비교하고, 맞은 개수를 합한 후 (sum) 평균 내기\n",
    "\n",
    "        train_history['loss'][i] = loss.item()   # 'item()'은 tensor의 item 값 (상수 값)만 반환. tensor를 직접적으로 리스트에 append하면 불필요하게 메모리가 쌓이는 것 주의.\n",
    "        train_history['accuracy'][i] = accuracy\n",
    "\n",
    "    train_result = {k: v.mean().item() for k, v in train_history.items()}  # train의 loss, acc를 평균내어 결과 보기\n",
    "    print(f\"Epoch: {epoch}, Train Loss: {train_result['loss']:.2f}, Train Accuracy: {train_result['accuracy']:.2f}\")\n",
    "\n",
    "    \"\"\"Step 2: Model Validation (Evaluation)\"\"\"\n",
    "    model.eval() # batchnorm, dropout 등 train할 때와 test할 때 연산이 다른 경우가 존재\n",
    "\n",
    "    num_iterations = len(validloader)\n",
    "    valid_history = {'loss': torch.zeros(num_iterations),      # 모델의 손실(loss)을 기록하기 위함\n",
    "                    'accuracy': torch.zeros(num_iterations)}   # 모델의 성능(accuracy)을 기록하기 위함\n",
    "\n",
    "    with torch.no_grad():  # 자동미분 연산 중지\n",
    "        for i, batch in enumerate(validloader):\n",
    "            input_imgs, labels = batch['X'].to(device), batch['y'].to(device)\n",
    "\n",
    "            logits = model(input_imgs)\n",
    "\n",
    "            loss = criterion(logits, labels)\n",
    "\n",
    "            \"\"\"loss를 backward 하지 않는 것에 주의\"\"\"\n",
    "\n",
    "            # 모델 손실 및 성능 기록\n",
    "            max_pred = torch.max(logits.detach(), dim=-1)[1]\n",
    "            accuracy = torch.eq(max_pred, labels).sum().cpu().item() / len(labels)  # 예측한 class와 정답이 얼마나 맞는지(eq) 비교하고, 맞은 개수를 합한 후 (sum) 평균 내기\n",
    "\n",
    "            valid_history['loss'][i] = loss.item()   # 모델 손실 저장\n",
    "            valid_history['accuracy'][i] = accuracy  # 모델 성능 저장\n",
    "\n",
    "    valid_result = {k: v.mean().item() for k, v in valid_history.items()} \n",
    "    print(f\"Epoch: {epoch}, Valid Loss: {valid_result['loss']:.2f}, Valid Accuracy: {valid_result['accuracy']:.2f}\", \"\\n\")\n",
    "\n",
    "    \"\"\"Step 3: 학습 중 도출된 loss 및 acc 값들 저장\"\"\"\n",
    "    epoch_history['train_loss'].append(train_result['loss'])\n",
    "    epoch_history['train_acc'].append(train_result['accuracy'])\n",
    "    epoch_history['valid_loss'].append(valid_result['loss'])\n",
    "    epoch_history['valid_acc'].append(valid_result['accuracy'])\n",
    "\n",
    "    \"\"\"Step 4: 모델을 평가 (valid/eval) 하였을 때 성능 측면에서 가장 우수했던 모델을 저장\"\"\"\n",
    "    if valid_result['accuracy'] > best_acc:\n",
    "        best_acc = valid_result['accuracy']  # best acc 값 업데이트\n",
    "        best_epoch = epoch                   # best epoch 값 업데이트\n",
    "        save_dict = {'model_G':model.feature_extractor_G.state_dict(),\n",
    "                    'model_F':model.predictor_F.state_dict(),\n",
    "                    'model':model.state_dict(),\n",
    "                    'optimizer': optimizer.state_dict(),\n",
    "                    'epoch':best_epoch,\n",
    "                    'acc':best_acc}\n",
    "        torch.save(save_dict, os.path.join(save_dir, 'model_checkpoint.pt'))  # 모델 저장\n",
    "\n",
    "# 최종적으로 선택된 모델에 대한 값 확인\n",
    "print(f\"Best Accuracy:{best_acc:.2f} | Best Epoch:{best_epoch}\")\n",
    "\n",
    "# 학습/테스트에 소요된 시간 계산\n",
    "end_sec = time.time() - start"
   ]
  },
  {
   "cell_type": "markdown",
   "metadata": {},
   "source": [
    "### 7-3. 모델 학습 추세 시각화"
   ]
  },
  {
   "cell_type": "code",
   "execution_count": null,
   "metadata": {},
   "outputs": [
    {
     "data": {
      "image/png": "[encoded data removed]",
      "text/plain": [
       "<Figure size 640x480 with 1 Axes>"
      ]
     },
     "metadata": {},
     "output_type": "display_data"
    }
   ],
   "source": [
    "sns.lineplot(x=range(1, epochs+1), y=epoch_history['train_loss'], label=\"Train Loss\")\n",
    "sns.lineplot(x=range(1, epochs+1), y=epoch_history['valid_loss'], label=\"Valid Loss\")\n",
    "plt.title(\"Train vs Valid Loss Graph\")\n",
    "plt.xlabel('Epoch')\n",
    "plt.ylabel('Loss');"
   ]
  },
  {
   "cell_type": "code",
   "execution_count": null,
   "metadata": {},
   "outputs": [
    {
     "data": {
      "image/png": "[encoded data removed]",
      "text/plain": [
       "<Figure size 640x480 with 1 Axes>"
      ]
     },
     "metadata": {},
     "output_type": "display_data"
    }
   ],
   "source": [
    "sns.lineplot(x=range(1, epochs+1), y=epoch_history['train_acc'], label=\"Train Accuracy\")\n",
    "sns.lineplot(x=range(1, epochs+1), y=epoch_history['valid_acc'], label=\"Valid Accuracy\")\n",
    "plt.title(\"Train vs Valid Accuracy Graph\")\n",
    "plt.xlabel('Epoch')\n",
    "plt.ylabel('Accuracy')\n",
    "plt.legend(loc=\"best\");"
   ]
  },
  {
   "cell_type": "markdown",
   "metadata": {},
   "source": [
    "## 8. Model Test: 최종적인 모델 성능 평가"
   ]
  },
  {
   "cell_type": "markdown",
   "metadata": {},
   "source": [
    "### 8-1. Load Parameters of Model"
   ]
  },
  {
   "cell_type": "code",
   "execution_count": null,
   "metadata": {},
   "outputs": [
    {
     "data": {
      "text/plain": [
       "MyCNN(\n",
       "  (feature_extractor_G): Sequential(\n",
       "    (0): Conv2d(3, 16, kernel_size=(3, 3), stride=(1, 1), padding=(1, 2))\n",
       "    (1): BatchNorm2d(16, eps=1e-05, momentum=0.1, affine=True, track_running_stats=True)\n",
       "    (2): ReLU(inplace=True)\n",
       "    (3): MaxPool2d(kernel_size=(2, 2), stride=(2, 2), padding=(0, 0), dilation=1, ceil_mode=False)\n",
       "    (4): Conv2d(16, 32, kernel_size=(3, 3), stride=(1, 1), padding=(1, 1))\n",
       "    (5): BatchNorm2d(32, eps=1e-05, momentum=0.1, affine=True, track_running_stats=True)\n",
       "    (6): ReLU(inplace=True)\n",
       "    (7): MaxPool2d(kernel_size=(2, 2), stride=(2, 2), padding=(0, 0), dilation=1, ceil_mode=False)\n",
       "    (8): Conv2d(32, 64, kernel_size=(3, 3), stride=(1, 1), padding=(1, 1))\n",
       "    (9): BatchNorm2d(64, eps=1e-05, momentum=0.1, affine=True, track_running_stats=True)\n",
       "    (10): ReLU(inplace=True)\n",
       "    (11): MaxPool2d(kernel_size=(2, 2), stride=(2, 2), padding=(0, 0), dilation=1, ceil_mode=False)\n",
       "    (12): Conv2d(64, 128, kernel_size=(3, 3), stride=(1, 1), padding=(1, 1))\n",
       "    (13): BatchNorm2d(128, eps=1e-05, momentum=0.1, affine=True, track_running_stats=True)\n",
       "    (14): ReLU(inplace=True)\n",
       "    (15): MaxPool2d(kernel_size=(2, 2), stride=(2, 2), padding=(0, 0), dilation=1, ceil_mode=False)\n",
       "    (16): Conv2d(128, 128, kernel_size=(3, 3), stride=(1, 1), padding=(1, 1))\n",
       "    (17): BatchNorm2d(128, eps=1e-05, momentum=0.1, affine=True, track_running_stats=True)\n",
       "    (18): ReLU(inplace=True)\n",
       "    (19): MaxPool2d(kernel_size=(2, 2), stride=(2, 2), padding=(0, 0), dilation=1, ceil_mode=False)\n",
       "  )\n",
       "  (flatten): Flatten(start_dim=1, end_dim=-1)\n",
       "  (predictor_F): Sequential(\n",
       "    (0): Linear(in_features=2048, out_features=128, bias=True)\n",
       "    (1): ReLU(inplace=True)\n",
       "    (2): Linear(in_features=128, out_features=2, bias=True)\n",
       "  )\n",
       ")"
      ]
     },
     "metadata": {},
     "output_type": "display_data"
    }
   ],
   "source": [
    "# load model parameters / 모델 구조를 불러온 뒤 parameter를 해당 레이어로 load해줘야함\n",
    "test_model = MyCNN(num_classes=2).to(device)   # 모델 구조 선언\n",
    "\n",
    "load_dict = torch.load(os.path.join(save_dir, 'model_checkpoint.pt'))   # 딕셔너리 형태로 저장된 모델의 체크포인트 불러오기\n",
    "parameters = load_dict['model']    # 'model'의 파라미터를 불러오기\n",
    "test_model.load_state_dict(parameters, strict=False)\n",
    "\n",
    "test_model"
   ]
  },
  {
   "cell_type": "markdown",
   "metadata": {},
   "source": [
    "### 8-2. Model Test"
   ]
  },
  {
   "cell_type": "code",
   "execution_count": null,
   "metadata": {},
   "outputs": [
    {
     "name": "stdout",
     "output_type": "stream",
     "text": [
      "Data      : dog_cat\n",
      "Seed      : 0\n",
      "Model     : MyCNN\n",
      "valid ACC : 0.66\n",
      "test ACC  : 0.61 \n",
      "\n"
     ]
    }
   ],
   "source": [
    "# test\n",
    "test_acc = 0.0\n",
    "n_test = 0\n",
    "\n",
    "num_iterations = len(testloader)\n",
    "test_history = {'accuracy': torch.zeros(num_iterations)}\n",
    "\n",
    "test_model.eval()\n",
    "with torch.no_grad():\n",
    "    for i, batch in enumerate(testloader):\n",
    "        input_imgs, labels = batch['X'].to(device), batch['y'].to(device)\n",
    "        \n",
    "        logits = model(input_imgs) # B,2\n",
    "        \n",
    "        # max함수를 통한 예측값 생성\n",
    "        max_pred = torch.max(logits, dim=1)[1] # B\n",
    "        test_accuracy = torch.eq(max_pred, labels).sum().cpu().item() / len(labels)\n",
    "        test_history['accuracy'][i] = test_accuracy\n",
    "\n",
    "test_result = {k: v.mean().item() for k, v in test_history.items()} \n",
    "\n",
    "# 학습 정보 출력\n",
    "print(f'Data      : dog_cat')\n",
    "print(f'Seed      : {seed}')\n",
    "print(f'Model     : MyCNN')\n",
    "print(f'valid ACC : {load_dict[\"acc\"]:.2f}')\n",
    "print(f'test ACC  : {test_result['accuracy']:.2f} \\n')"
   ]
  }
 ],
 "metadata": {
  "language_info": {
   "name": "python"
  }
 },
 "nbformat": 4,
 "nbformat_minor": 2
}
